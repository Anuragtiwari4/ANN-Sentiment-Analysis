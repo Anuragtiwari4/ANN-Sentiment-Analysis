{
  "nbformat": 4,
  "nbformat_minor": 0,
  "metadata": {
    "colab": {
      "provenance": []
    },
    "kernelspec": {
      "name": "python3",
      "display_name": "Python 3"
    },
    "language_info": {
      "name": "python"
    }
  },
  "cells": [
    {
      "cell_type": "markdown",
      "source": [
        "### Importing Libraries\n"
      ],
      "metadata": {
        "id": "ynPrDZzpgK0e"
      }
    },
    {
      "cell_type": "code",
      "execution_count": 3,
      "metadata": {
        "id": "2zRvAJLaMkzT"
      },
      "outputs": [],
      "source": [
        "import numpy as np\n",
        "import pandas as pd\n",
        "from sklearn.model_selection import train_test_split\n",
        "from sklearn.preprocessing import LabelEncoder\n",
        "from tensorflow.keras.preprocessing.text import Tokenizer\n",
        "from tensorflow.keras.preprocessing.sequence import pad_sequences\n",
        "from tensorflow.keras.models import Sequential\n",
        "from tensorflow.keras.layers import Embedding, Flatten, Dense"
      ]
    },
    {
      "cell_type": "markdown",
      "source": [
        "### Importing Dataset\n"
      ],
      "metadata": {
        "id": "mB4PV5-mgbJS"
      }
    },
    {
      "cell_type": "code",
      "source": [
        "dataset = pd.read_csv('/content/Test.csv')\n",
        "X = dataset['text'].values\n",
        "y = dataset['label'].values"
      ],
      "metadata": {
        "id": "3lftdHvgMwiq"
      },
      "execution_count": 4,
      "outputs": []
    },
    {
      "cell_type": "markdown",
      "source": [
        "### Tokenization and Padding"
      ],
      "metadata": {
        "id": "nDJJgKDdgh0n"
      }
    },
    {
      "cell_type": "code",
      "source": [
        "max_words = 1000\n",
        "tokenizer = Tokenizer(num_words=max_words)\n",
        "tokenizer.fit_on_texts(X)\n",
        "X = tokenizer.texts_to_sequences(X)\n",
        "maxlen = 50\n",
        "X = pad_sequences(X, maxlen=maxlen)\n"
      ],
      "metadata": {
        "id": "hjOtLb6tMwuU"
      },
      "execution_count": 5,
      "outputs": []
    },
    {
      "cell_type": "markdown",
      "source": [
        "### Splitting Dataset into Training and Test Set"
      ],
      "metadata": {
        "id": "9DYbkIMjgnNa"
      }
    },
    {
      "cell_type": "code",
      "source": [
        "X_train, X_test, y_train, y_test = train_test_split(X, y, test_size=0.2, random_state=42)"
      ],
      "metadata": {
        "id": "-efn4HubMwwv"
      },
      "execution_count": 6,
      "outputs": []
    },
    {
      "cell_type": "markdown",
      "source": [
        "### Initialising Model and Adding Layers"
      ],
      "metadata": {
        "id": "tibjuGsqguRA"
      }
    },
    {
      "cell_type": "code",
      "source": [
        "model = Sequential()\n",
        "model.add(Embedding(max_words, 32, input_length=maxlen))\n",
        "model.add(Flatten())\n",
        "model.add(Dense(1, activation='sigmoid'))"
      ],
      "metadata": {
        "id": "oC6K2hpRMwzn"
      },
      "execution_count": 7,
      "outputs": []
    },
    {
      "cell_type": "code",
      "source": [
        "model.compile(optimizer='adam', loss='binary_crossentropy', metrics=['accuracy'])"
      ],
      "metadata": {
        "id": "WkzViQK0Mw1o"
      },
      "execution_count": 8,
      "outputs": []
    },
    {
      "cell_type": "code",
      "source": [
        "model.fit(X_train, y_train, epochs=20, batch_size=32, validation_split=0.2)"
      ],
      "metadata": {
        "id": "uYbH1d6mMw4i",
        "colab": {
          "base_uri": "https://localhost:8080/"
        },
        "outputId": "b6125160-4dcb-42fc-8b95-1d16ad3ee63c"
      },
      "execution_count": 9,
      "outputs": [
        {
          "output_type": "stream",
          "name": "stdout",
          "text": [
            "Epoch 1/20\n",
            "100/100 [==============================] - 2s 8ms/step - loss: 0.6902 - accuracy: 0.5416 - val_loss: 0.6848 - val_accuracy: 0.6100\n",
            "Epoch 2/20\n",
            "100/100 [==============================] - 1s 5ms/step - loss: 0.6440 - accuracy: 0.8041 - val_loss: 0.6435 - val_accuracy: 0.6888\n",
            "Epoch 3/20\n",
            "100/100 [==============================] - 0s 4ms/step - loss: 0.5417 - accuracy: 0.8303 - val_loss: 0.5691 - val_accuracy: 0.7200\n",
            "Epoch 4/20\n",
            "100/100 [==============================] - 0s 3ms/step - loss: 0.4243 - accuracy: 0.8637 - val_loss: 0.5194 - val_accuracy: 0.7500\n",
            "Epoch 5/20\n",
            "100/100 [==============================] - 0s 4ms/step - loss: 0.3303 - accuracy: 0.9116 - val_loss: 0.4947 - val_accuracy: 0.7513\n",
            "Epoch 6/20\n",
            "100/100 [==============================] - 0s 3ms/step - loss: 0.2571 - accuracy: 0.9450 - val_loss: 0.4857 - val_accuracy: 0.7525\n",
            "Epoch 7/20\n",
            "100/100 [==============================] - 0s 4ms/step - loss: 0.1986 - accuracy: 0.9672 - val_loss: 0.4917 - val_accuracy: 0.7462\n",
            "Epoch 8/20\n",
            "100/100 [==============================] - 0s 4ms/step - loss: 0.1522 - accuracy: 0.9872 - val_loss: 0.4975 - val_accuracy: 0.7525\n",
            "Epoch 9/20\n",
            "100/100 [==============================] - 0s 3ms/step - loss: 0.1156 - accuracy: 0.9984 - val_loss: 0.5067 - val_accuracy: 0.7450\n",
            "Epoch 10/20\n",
            "100/100 [==============================] - 0s 3ms/step - loss: 0.0883 - accuracy: 0.9991 - val_loss: 0.5195 - val_accuracy: 0.7462\n",
            "Epoch 11/20\n",
            "100/100 [==============================] - 0s 4ms/step - loss: 0.0685 - accuracy: 0.9994 - val_loss: 0.5295 - val_accuracy: 0.7525\n",
            "Epoch 12/20\n",
            "100/100 [==============================] - 0s 3ms/step - loss: 0.0531 - accuracy: 1.0000 - val_loss: 0.5415 - val_accuracy: 0.7437\n",
            "Epoch 13/20\n",
            "100/100 [==============================] - 0s 3ms/step - loss: 0.0424 - accuracy: 1.0000 - val_loss: 0.5544 - val_accuracy: 0.7475\n",
            "Epoch 14/20\n",
            "100/100 [==============================] - 0s 3ms/step - loss: 0.0342 - accuracy: 1.0000 - val_loss: 0.5656 - val_accuracy: 0.7487\n",
            "Epoch 15/20\n",
            "100/100 [==============================] - 0s 3ms/step - loss: 0.0281 - accuracy: 1.0000 - val_loss: 0.5775 - val_accuracy: 0.7437\n",
            "Epoch 16/20\n",
            "100/100 [==============================] - 0s 3ms/step - loss: 0.0233 - accuracy: 1.0000 - val_loss: 0.5886 - val_accuracy: 0.7450\n",
            "Epoch 17/20\n",
            "100/100 [==============================] - 0s 3ms/step - loss: 0.0197 - accuracy: 1.0000 - val_loss: 0.5979 - val_accuracy: 0.7450\n",
            "Epoch 18/20\n",
            "100/100 [==============================] - 0s 4ms/step - loss: 0.0167 - accuracy: 1.0000 - val_loss: 0.6087 - val_accuracy: 0.7462\n",
            "Epoch 19/20\n",
            "100/100 [==============================] - 0s 3ms/step - loss: 0.0143 - accuracy: 1.0000 - val_loss: 0.6173 - val_accuracy: 0.7437\n",
            "Epoch 20/20\n",
            "100/100 [==============================] - 0s 3ms/step - loss: 0.0123 - accuracy: 1.0000 - val_loss: 0.6274 - val_accuracy: 0.7462\n"
          ]
        },
        {
          "output_type": "execute_result",
          "data": {
            "text/plain": [
              "<keras.src.callbacks.History at 0x7fbd33d29d20>"
            ]
          },
          "metadata": {},
          "execution_count": 9
        }
      ]
    },
    {
      "cell_type": "code",
      "source": [
        "loss, accuracy = model.evaluate(X_test, y_test)\n",
        "print(\"Test Accuracy:\", accuracy)"
      ],
      "metadata": {
        "id": "MbaIg32cMw8G",
        "colab": {
          "base_uri": "https://localhost:8080/"
        },
        "outputId": "62048b50-f9b5-47e1-d982-7d1aa7471307"
      },
      "execution_count": 10,
      "outputs": [
        {
          "output_type": "stream",
          "name": "stdout",
          "text": [
            "32/32 [==============================] - 0s 1ms/step - loss: 0.6780 - accuracy: 0.7370\n",
            "Test Accuracy: 0.7369999885559082\n"
          ]
        }
      ]
    },
    {
      "cell_type": "code",
      "source": [
        "def predict_sentiment(sentence):\n",
        "    sequence = tokenizer.texts_to_sequences([sentence])\n",
        "    padded_sequence = pad_sequences(sequence, maxlen=maxlen)\n",
        "    prediction = model.predict(padded_sequence)[0][0]\n",
        "    if prediction >= 0.5:\n",
        "        sentiment = \"Positive\"\n",
        "    else:\n",
        "        sentiment = \"Negative\"\n",
        "    return sentiment\n",
        "\n",
        "\n",
        "sentence = \"Raj does bad in academics\"\n",
        "predicted_sentiment = predict_sentiment(sentence)\n",
        "print(\"Predicted Sentiment:\", predicted_sentiment)\n"
      ],
      "metadata": {
        "id": "G_YpwxRnQhK8",
        "colab": {
          "base_uri": "https://localhost:8080/"
        },
        "outputId": "9801f072-bf95-4267-9792-ad71439a1b46"
      },
      "execution_count": 17,
      "outputs": [
        {
          "output_type": "stream",
          "name": "stdout",
          "text": [
            "1/1 [==============================] - 0s 22ms/step\n",
            "Predicted Sentiment: Negative\n"
          ]
        }
      ]
    }
  ]
}